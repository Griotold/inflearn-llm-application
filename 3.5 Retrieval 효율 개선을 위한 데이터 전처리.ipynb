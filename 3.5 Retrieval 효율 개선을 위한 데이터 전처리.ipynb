{
 "cells": [
  {
   "cell_type": "code",
   "execution_count": 1,
   "id": "b95dc696",
   "metadata": {},
   "outputs": [
    {
     "name": "stdout",
     "output_type": "stream",
     "text": [
      "Requirement already satisfied: aiohappyeyeballs==2.4.3 in /Users/hs/.pyenv/versions/inflearn-llm-application/lib/python3.11/site-packages (from -r requirements.txt (line 1)) (2.4.3)\n",
      "Requirement already satisfied: aiohttp==3.9.5 in /Users/hs/.pyenv/versions/inflearn-llm-application/lib/python3.11/site-packages (from -r requirements.txt (line 2)) (3.9.5)\n",
      "Requirement already satisfied: aiosignal==1.3.1 in /Users/hs/.pyenv/versions/inflearn-llm-application/lib/python3.11/site-packages (from -r requirements.txt (line 3)) (1.3.1)\n",
      "Requirement already satisfied: annotated-types==0.7.0 in /Users/hs/.pyenv/versions/inflearn-llm-application/lib/python3.11/site-packages (from -r requirements.txt (line 4)) (0.7.0)\n",
      "Requirement already satisfied: anyio==4.6.2 in /Users/hs/.pyenv/versions/inflearn-llm-application/lib/python3.11/site-packages (from -r requirements.txt (line 5)) (4.6.2)\n",
      "Requirement already satisfied: appnope==0.1.4 in /Users/hs/.pyenv/versions/inflearn-llm-application/lib/python3.11/site-packages (from -r requirements.txt (line 6)) (0.1.4)\n",
      "Requirement already satisfied: asgiref==3.8.1 in /Users/hs/.pyenv/versions/inflearn-llm-application/lib/python3.11/site-packages (from -r requirements.txt (line 7)) (3.8.1)\n",
      "Requirement already satisfied: asttokens==2.4.1 in /Users/hs/.pyenv/versions/inflearn-llm-application/lib/python3.11/site-packages (from -r requirements.txt (line 8)) (2.4.1)\n",
      "Requirement already satisfied: async-timeout==4.0.3 in /Users/hs/.pyenv/versions/inflearn-llm-application/lib/python3.11/site-packages (from -r requirements.txt (line 9)) (4.0.3)\n",
      "Requirement already satisfied: attrs==24.2.0 in /Users/hs/.pyenv/versions/inflearn-llm-application/lib/python3.11/site-packages (from -r requirements.txt (line 10)) (24.2.0)\n",
      "Requirement already satisfied: backoff==2.2.1 in /Users/hs/.pyenv/versions/inflearn-llm-application/lib/python3.11/site-packages (from -r requirements.txt (line 11)) (2.2.1)\n",
      "Requirement already satisfied: bcrypt==4.2.0 in /Users/hs/.pyenv/versions/inflearn-llm-application/lib/python3.11/site-packages (from -r requirements.txt (line 12)) (4.2.0)\n",
      "Requirement already satisfied: build==1.2.2.post1 in /Users/hs/.pyenv/versions/inflearn-llm-application/lib/python3.11/site-packages (from -r requirements.txt (line 13)) (1.2.2.post1)\n",
      "Requirement already satisfied: cachetools==5.5.0 in /Users/hs/.pyenv/versions/inflearn-llm-application/lib/python3.11/site-packages (from -r requirements.txt (line 14)) (5.5.0)\n",
      "Requirement already satisfied: certifi==2024.8.30 in /Users/hs/.pyenv/versions/inflearn-llm-application/lib/python3.11/site-packages (from -r requirements.txt (line 15)) (2024.8.30)\n",
      "Requirement already satisfied: charset-normalizer==3.4.0 in /Users/hs/.pyenv/versions/inflearn-llm-application/lib/python3.11/site-packages (from -r requirements.txt (line 16)) (3.4.0)\n",
      "Requirement already satisfied: chroma-hnswlib==0.7.6 in /Users/hs/.pyenv/versions/inflearn-llm-application/lib/python3.11/site-packages (from -r requirements.txt (line 17)) (0.7.6)\n",
      "Requirement already satisfied: chromadb==0.5.13 in /Users/hs/.pyenv/versions/inflearn-llm-application/lib/python3.11/site-packages (from -r requirements.txt (line 18)) (0.5.13)\n",
      "Requirement already satisfied: click==8.1.7 in /Users/hs/.pyenv/versions/inflearn-llm-application/lib/python3.11/site-packages (from -r requirements.txt (line 19)) (8.1.7)\n",
      "Requirement already satisfied: coloredlogs==15.0.1 in /Users/hs/.pyenv/versions/inflearn-llm-application/lib/python3.11/site-packages (from -r requirements.txt (line 20)) (15.0.1)\n",
      "Requirement already satisfied: comm==0.2.2 in /Users/hs/.pyenv/versions/inflearn-llm-application/lib/python3.11/site-packages (from -r requirements.txt (line 21)) (0.2.2)\n",
      "Requirement already satisfied: dataclasses-json==0.6.7 in /Users/hs/.pyenv/versions/inflearn-llm-application/lib/python3.11/site-packages (from -r requirements.txt (line 22)) (0.6.7)\n",
      "Requirement already satisfied: debugpy==1.8.7 in /Users/hs/.pyenv/versions/inflearn-llm-application/lib/python3.11/site-packages (from -r requirements.txt (line 23)) (1.8.7)\n",
      "Requirement already satisfied: decorator==5.1.1 in /Users/hs/.pyenv/versions/inflearn-llm-application/lib/python3.11/site-packages (from -r requirements.txt (line 24)) (5.1.1)\n",
      "Requirement already satisfied: Deprecated==1.2.14 in /Users/hs/.pyenv/versions/inflearn-llm-application/lib/python3.11/site-packages (from -r requirements.txt (line 25)) (1.2.14)\n",
      "Requirement already satisfied: distro==1.9.0 in /Users/hs/.pyenv/versions/inflearn-llm-application/lib/python3.11/site-packages (from -r requirements.txt (line 26)) (1.9.0)\n",
      "Requirement already satisfied: docx2txt==0.8 in /Users/hs/.pyenv/versions/inflearn-llm-application/lib/python3.11/site-packages (from -r requirements.txt (line 27)) (0.8)\n",
      "Requirement already satisfied: durationpy==0.9 in /Users/hs/.pyenv/versions/inflearn-llm-application/lib/python3.11/site-packages (from -r requirements.txt (line 28)) (0.9)\n",
      "Requirement already satisfied: exceptiongroup==1.2.2 in /Users/hs/.pyenv/versions/inflearn-llm-application/lib/python3.11/site-packages (from -r requirements.txt (line 29)) (1.2.2)\n",
      "Requirement already satisfied: executing==2.1.0 in /Users/hs/.pyenv/versions/inflearn-llm-application/lib/python3.11/site-packages (from -r requirements.txt (line 30)) (2.1.0)\n",
      "Requirement already satisfied: fastapi==0.115.2 in /Users/hs/.pyenv/versions/inflearn-llm-application/lib/python3.11/site-packages (from -r requirements.txt (line 31)) (0.115.2)\n",
      "Requirement already satisfied: filelock==3.16.1 in /Users/hs/.pyenv/versions/inflearn-llm-application/lib/python3.11/site-packages (from -r requirements.txt (line 32)) (3.16.1)\n",
      "Requirement already satisfied: flatbuffers==24.3.25 in /Users/hs/.pyenv/versions/inflearn-llm-application/lib/python3.11/site-packages (from -r requirements.txt (line 33)) (24.3.25)\n",
      "Requirement already satisfied: frozenlist==1.4.1 in /Users/hs/.pyenv/versions/inflearn-llm-application/lib/python3.11/site-packages (from -r requirements.txt (line 34)) (1.4.1)\n",
      "Requirement already satisfied: fsspec==2024.9.0 in /Users/hs/.pyenv/versions/inflearn-llm-application/lib/python3.11/site-packages (from -r requirements.txt (line 35)) (2024.9.0)\n",
      "Requirement already satisfied: google-auth==2.35.0 in /Users/hs/.pyenv/versions/inflearn-llm-application/lib/python3.11/site-packages (from -r requirements.txt (line 36)) (2.35.0)\n",
      "Requirement already satisfied: googleapis-common-protos==1.65.0 in /Users/hs/.pyenv/versions/inflearn-llm-application/lib/python3.11/site-packages (from -r requirements.txt (line 37)) (1.65.0)\n",
      "Requirement already satisfied: grpcio==1.66.2 in /Users/hs/.pyenv/versions/inflearn-llm-application/lib/python3.11/site-packages (from -r requirements.txt (line 38)) (1.66.2)\n",
      "Requirement already satisfied: h11==0.14.0 in /Users/hs/.pyenv/versions/inflearn-llm-application/lib/python3.11/site-packages (from -r requirements.txt (line 39)) (0.14.0)\n",
      "Requirement already satisfied: httpcore==1.0.6 in /Users/hs/.pyenv/versions/inflearn-llm-application/lib/python3.11/site-packages (from -r requirements.txt (line 40)) (1.0.6)\n",
      "Requirement already satisfied: httptools==0.6.2 in /Users/hs/.pyenv/versions/inflearn-llm-application/lib/python3.11/site-packages (from -r requirements.txt (line 41)) (0.6.2)\n",
      "Requirement already satisfied: httpx==0.27.2 in /Users/hs/.pyenv/versions/inflearn-llm-application/lib/python3.11/site-packages (from -r requirements.txt (line 42)) (0.27.2)\n",
      "Requirement already satisfied: huggingface-hub==0.25.2 in /Users/hs/.pyenv/versions/inflearn-llm-application/lib/python3.11/site-packages (from -r requirements.txt (line 43)) (0.25.2)\n",
      "Requirement already satisfied: humanfriendly==10.0 in /Users/hs/.pyenv/versions/inflearn-llm-application/lib/python3.11/site-packages (from -r requirements.txt (line 44)) (10.0)\n",
      "Requirement already satisfied: idna==3.10 in /Users/hs/.pyenv/versions/inflearn-llm-application/lib/python3.11/site-packages (from -r requirements.txt (line 45)) (3.10)\n",
      "Requirement already satisfied: importlib_metadata==8.4.0 in /Users/hs/.pyenv/versions/inflearn-llm-application/lib/python3.11/site-packages (from -r requirements.txt (line 46)) (8.4.0)\n",
      "Requirement already satisfied: importlib_resources==6.4.5 in /Users/hs/.pyenv/versions/inflearn-llm-application/lib/python3.11/site-packages (from -r requirements.txt (line 47)) (6.4.5)\n",
      "Requirement already satisfied: ipykernel==6.29.5 in /Users/hs/.pyenv/versions/inflearn-llm-application/lib/python3.11/site-packages (from -r requirements.txt (line 48)) (6.29.5)\n",
      "Requirement already satisfied: ipython==8.28.0 in /Users/hs/.pyenv/versions/inflearn-llm-application/lib/python3.11/site-packages (from -r requirements.txt (line 49)) (8.28.0)\n",
      "Requirement already satisfied: jedi==0.19.1 in /Users/hs/.pyenv/versions/inflearn-llm-application/lib/python3.11/site-packages (from -r requirements.txt (line 50)) (0.19.1)\n",
      "Requirement already satisfied: jiter==0.6.1 in /Users/hs/.pyenv/versions/inflearn-llm-application/lib/python3.11/site-packages (from -r requirements.txt (line 51)) (0.6.1)\n",
      "Requirement already satisfied: jsonpatch==1.33 in /Users/hs/.pyenv/versions/inflearn-llm-application/lib/python3.11/site-packages (from -r requirements.txt (line 52)) (1.33)\n",
      "Requirement already satisfied: jsonpointer==3.0.0 in /Users/hs/.pyenv/versions/inflearn-llm-application/lib/python3.11/site-packages (from -r requirements.txt (line 53)) (3.0.0)\n",
      "Requirement already satisfied: jupyter_client==8.6.3 in /Users/hs/.pyenv/versions/inflearn-llm-application/lib/python3.11/site-packages (from -r requirements.txt (line 54)) (8.6.3)\n",
      "Requirement already satisfied: jupyter_core==5.7.2 in /Users/hs/.pyenv/versions/inflearn-llm-application/lib/python3.11/site-packages (from -r requirements.txt (line 55)) (5.7.2)\n",
      "Requirement already satisfied: kubernetes==31.0.0 in /Users/hs/.pyenv/versions/inflearn-llm-application/lib/python3.11/site-packages (from -r requirements.txt (line 56)) (31.0.0)\n",
      "Requirement already satisfied: langchain==0.3.3 in /Users/hs/.pyenv/versions/inflearn-llm-application/lib/python3.11/site-packages (from -r requirements.txt (line 57)) (0.3.3)\n",
      "Requirement already satisfied: langchain-chroma==0.1.4 in /Users/hs/.pyenv/versions/inflearn-llm-application/lib/python3.11/site-packages (from -r requirements.txt (line 58)) (0.1.4)\n",
      "Requirement already satisfied: langchain-community==0.3.2 in /Users/hs/.pyenv/versions/inflearn-llm-application/lib/python3.11/site-packages (from -r requirements.txt (line 59)) (0.3.2)\n",
      "Requirement already satisfied: langchain-core==0.3.10 in /Users/hs/.pyenv/versions/inflearn-llm-application/lib/python3.11/site-packages (from -r requirements.txt (line 60)) (0.3.10)\n",
      "Requirement already satisfied: langchain-openai==0.2.2 in /Users/hs/.pyenv/versions/inflearn-llm-application/lib/python3.11/site-packages (from -r requirements.txt (line 61)) (0.2.2)\n",
      "Requirement already satisfied: langchain-pinecone==0.2.0 in /Users/hs/.pyenv/versions/inflearn-llm-application/lib/python3.11/site-packages (from -r requirements.txt (line 62)) (0.2.0)\n",
      "Requirement already satisfied: langchain-text-splitters==0.3.0 in /Users/hs/.pyenv/versions/inflearn-llm-application/lib/python3.11/site-packages (from -r requirements.txt (line 63)) (0.3.0)\n",
      "Requirement already satisfied: langchain-upstage==0.3.0 in /Users/hs/.pyenv/versions/inflearn-llm-application/lib/python3.11/site-packages (from -r requirements.txt (line 64)) (0.3.0)\n",
      "Requirement already satisfied: langsmith==0.1.134 in /Users/hs/.pyenv/versions/inflearn-llm-application/lib/python3.11/site-packages (from -r requirements.txt (line 65)) (0.1.134)\n",
      "Requirement already satisfied: lxml==5.3.0 in /Users/hs/.pyenv/versions/inflearn-llm-application/lib/python3.11/site-packages (from -r requirements.txt (line 66)) (5.3.0)\n",
      "Requirement already satisfied: markdown-it-py==3.0.0 in /Users/hs/.pyenv/versions/inflearn-llm-application/lib/python3.11/site-packages (from -r requirements.txt (line 67)) (3.0.0)\n",
      "Requirement already satisfied: marshmallow==3.22.0 in /Users/hs/.pyenv/versions/inflearn-llm-application/lib/python3.11/site-packages (from -r requirements.txt (line 68)) (3.22.0)\n",
      "Requirement already satisfied: matplotlib-inline==0.1.7 in /Users/hs/.pyenv/versions/inflearn-llm-application/lib/python3.11/site-packages (from -r requirements.txt (line 69)) (0.1.7)\n",
      "Requirement already satisfied: mdurl==0.1.2 in /Users/hs/.pyenv/versions/inflearn-llm-application/lib/python3.11/site-packages (from -r requirements.txt (line 70)) (0.1.2)\n",
      "Requirement already satisfied: mmh3==5.0.1 in /Users/hs/.pyenv/versions/inflearn-llm-application/lib/python3.11/site-packages (from -r requirements.txt (line 71)) (5.0.1)\n",
      "Requirement already satisfied: monotonic==1.6 in /Users/hs/.pyenv/versions/inflearn-llm-application/lib/python3.11/site-packages (from -r requirements.txt (line 72)) (1.6)\n",
      "Requirement already satisfied: mpmath==1.3.0 in /Users/hs/.pyenv/versions/inflearn-llm-application/lib/python3.11/site-packages (from -r requirements.txt (line 73)) (1.3.0)\n",
      "Requirement already satisfied: multidict==6.1.0 in /Users/hs/.pyenv/versions/inflearn-llm-application/lib/python3.11/site-packages (from -r requirements.txt (line 74)) (6.1.0)\n",
      "Requirement already satisfied: mypy-extensions==1.0.0 in /Users/hs/.pyenv/versions/inflearn-llm-application/lib/python3.11/site-packages (from -r requirements.txt (line 75)) (1.0.0)\n",
      "Requirement already satisfied: nest-asyncio==1.6.0 in /Users/hs/.pyenv/versions/inflearn-llm-application/lib/python3.11/site-packages (from -r requirements.txt (line 76)) (1.6.0)\n",
      "Requirement already satisfied: numpy==1.26.4 in /Users/hs/.pyenv/versions/inflearn-llm-application/lib/python3.11/site-packages (from -r requirements.txt (line 77)) (1.26.4)\n",
      "Requirement already satisfied: oauthlib==3.2.2 in /Users/hs/.pyenv/versions/inflearn-llm-application/lib/python3.11/site-packages (from -r requirements.txt (line 78)) (3.2.2)\n",
      "Requirement already satisfied: onnxruntime==1.19.2 in /Users/hs/.pyenv/versions/inflearn-llm-application/lib/python3.11/site-packages (from -r requirements.txt (line 79)) (1.19.2)\n",
      "Requirement already satisfied: openai==1.51.2 in /Users/hs/.pyenv/versions/inflearn-llm-application/lib/python3.11/site-packages (from -r requirements.txt (line 80)) (1.51.2)\n",
      "Requirement already satisfied: opentelemetry-api==1.27.0 in /Users/hs/.pyenv/versions/inflearn-llm-application/lib/python3.11/site-packages (from -r requirements.txt (line 81)) (1.27.0)\n",
      "Requirement already satisfied: opentelemetry-exporter-otlp-proto-common==1.27.0 in /Users/hs/.pyenv/versions/inflearn-llm-application/lib/python3.11/site-packages (from -r requirements.txt (line 82)) (1.27.0)\n",
      "Requirement already satisfied: opentelemetry-exporter-otlp-proto-grpc==1.27.0 in /Users/hs/.pyenv/versions/inflearn-llm-application/lib/python3.11/site-packages (from -r requirements.txt (line 83)) (1.27.0)\n",
      "Requirement already satisfied: opentelemetry-instrumentation==0.48b0 in /Users/hs/.pyenv/versions/inflearn-llm-application/lib/python3.11/site-packages (from -r requirements.txt (line 84)) (0.48b0)\n",
      "Requirement already satisfied: opentelemetry-instrumentation-asgi==0.48b0 in /Users/hs/.pyenv/versions/inflearn-llm-application/lib/python3.11/site-packages (from -r requirements.txt (line 85)) (0.48b0)\n",
      "Requirement already satisfied: opentelemetry-instrumentation-fastapi==0.48b0 in /Users/hs/.pyenv/versions/inflearn-llm-application/lib/python3.11/site-packages (from -r requirements.txt (line 86)) (0.48b0)\n",
      "Requirement already satisfied: opentelemetry-proto==1.27.0 in /Users/hs/.pyenv/versions/inflearn-llm-application/lib/python3.11/site-packages (from -r requirements.txt (line 87)) (1.27.0)\n",
      "Requirement already satisfied: opentelemetry-sdk==1.27.0 in /Users/hs/.pyenv/versions/inflearn-llm-application/lib/python3.11/site-packages (from -r requirements.txt (line 88)) (1.27.0)\n",
      "Requirement already satisfied: opentelemetry-semantic-conventions==0.48b0 in /Users/hs/.pyenv/versions/inflearn-llm-application/lib/python3.11/site-packages (from -r requirements.txt (line 89)) (0.48b0)\n",
      "Requirement already satisfied: opentelemetry-util-http==0.48b0 in /Users/hs/.pyenv/versions/inflearn-llm-application/lib/python3.11/site-packages (from -r requirements.txt (line 90)) (0.48b0)\n",
      "Requirement already satisfied: orjson==3.10.7 in /Users/hs/.pyenv/versions/inflearn-llm-application/lib/python3.11/site-packages (from -r requirements.txt (line 91)) (3.10.7)\n",
      "Requirement already satisfied: overrides==7.7.0 in /Users/hs/.pyenv/versions/inflearn-llm-application/lib/python3.11/site-packages (from -r requirements.txt (line 92)) (7.7.0)\n",
      "Requirement already satisfied: packaging==24.1 in /Users/hs/.pyenv/versions/inflearn-llm-application/lib/python3.11/site-packages (from -r requirements.txt (line 93)) (24.1)\n",
      "Requirement already satisfied: parso==0.8.4 in /Users/hs/.pyenv/versions/inflearn-llm-application/lib/python3.11/site-packages (from -r requirements.txt (line 94)) (0.8.4)\n",
      "Requirement already satisfied: pexpect==4.9.0 in /Users/hs/.pyenv/versions/inflearn-llm-application/lib/python3.11/site-packages (from -r requirements.txt (line 95)) (4.9.0)\n",
      "Requirement already satisfied: pinecone-client==5.0.1 in /Users/hs/.pyenv/versions/inflearn-llm-application/lib/python3.11/site-packages (from -r requirements.txt (line 96)) (5.0.1)\n",
      "Requirement already satisfied: pinecone-plugin-inference==1.1.0 in /Users/hs/.pyenv/versions/inflearn-llm-application/lib/python3.11/site-packages (from -r requirements.txt (line 97)) (1.1.0)\n",
      "Requirement already satisfied: pinecone-plugin-interface==0.0.7 in /Users/hs/.pyenv/versions/inflearn-llm-application/lib/python3.11/site-packages (from -r requirements.txt (line 98)) (0.0.7)\n",
      "Requirement already satisfied: platformdirs==4.3.6 in /Users/hs/.pyenv/versions/inflearn-llm-application/lib/python3.11/site-packages (from -r requirements.txt (line 99)) (4.3.6)\n",
      "Requirement already satisfied: posthog==3.7.0 in /Users/hs/.pyenv/versions/inflearn-llm-application/lib/python3.11/site-packages (from -r requirements.txt (line 100)) (3.7.0)\n",
      "Requirement already satisfied: prompt_toolkit==3.0.48 in /Users/hs/.pyenv/versions/inflearn-llm-application/lib/python3.11/site-packages (from -r requirements.txt (line 101)) (3.0.48)\n",
      "Requirement already satisfied: propcache==0.2.0 in /Users/hs/.pyenv/versions/inflearn-llm-application/lib/python3.11/site-packages (from -r requirements.txt (line 102)) (0.2.0)\n",
      "Requirement already satisfied: protobuf==4.25.5 in /Users/hs/.pyenv/versions/inflearn-llm-application/lib/python3.11/site-packages (from -r requirements.txt (line 103)) (4.25.5)\n",
      "Requirement already satisfied: psutil==6.0.0 in /Users/hs/.pyenv/versions/inflearn-llm-application/lib/python3.11/site-packages (from -r requirements.txt (line 104)) (6.0.0)\n",
      "Requirement already satisfied: ptyprocess==0.7.0 in /Users/hs/.pyenv/versions/inflearn-llm-application/lib/python3.11/site-packages (from -r requirements.txt (line 105)) (0.7.0)\n",
      "Requirement already satisfied: pure_eval==0.2.3 in /Users/hs/.pyenv/versions/inflearn-llm-application/lib/python3.11/site-packages (from -r requirements.txt (line 106)) (0.2.3)\n",
      "Requirement already satisfied: pyasn1==0.6.1 in /Users/hs/.pyenv/versions/inflearn-llm-application/lib/python3.11/site-packages (from -r requirements.txt (line 107)) (0.6.1)\n",
      "Requirement already satisfied: pyasn1_modules==0.4.1 in /Users/hs/.pyenv/versions/inflearn-llm-application/lib/python3.11/site-packages (from -r requirements.txt (line 108)) (0.4.1)\n",
      "Requirement already satisfied: pydantic==2.9.2 in /Users/hs/.pyenv/versions/inflearn-llm-application/lib/python3.11/site-packages (from -r requirements.txt (line 109)) (2.9.2)\n",
      "Requirement already satisfied: pydantic-settings==2.5.2 in /Users/hs/.pyenv/versions/inflearn-llm-application/lib/python3.11/site-packages (from -r requirements.txt (line 110)) (2.5.2)\n",
      "Requirement already satisfied: pydantic_core==2.23.4 in /Users/hs/.pyenv/versions/inflearn-llm-application/lib/python3.11/site-packages (from -r requirements.txt (line 111)) (2.23.4)\n",
      "Requirement already satisfied: Pygments==2.18.0 in /Users/hs/.pyenv/versions/inflearn-llm-application/lib/python3.11/site-packages (from -r requirements.txt (line 112)) (2.18.0)\n",
      "Requirement already satisfied: pypdf==4.3.1 in /Users/hs/.pyenv/versions/inflearn-llm-application/lib/python3.11/site-packages (from -r requirements.txt (line 113)) (4.3.1)\n",
      "Requirement already satisfied: PyPika==0.48.9 in /Users/hs/.pyenv/versions/inflearn-llm-application/lib/python3.11/site-packages (from -r requirements.txt (line 114)) (0.48.9)\n",
      "Requirement already satisfied: pyproject_hooks==1.2.0 in /Users/hs/.pyenv/versions/inflearn-llm-application/lib/python3.11/site-packages (from -r requirements.txt (line 115)) (1.2.0)\n",
      "Requirement already satisfied: python-dateutil==2.9.0.post0 in /Users/hs/.pyenv/versions/inflearn-llm-application/lib/python3.11/site-packages (from -r requirements.txt (line 116)) (2.9.0.post0)\n",
      "Requirement already satisfied: python-docx==1.1.2 in /Users/hs/.pyenv/versions/inflearn-llm-application/lib/python3.11/site-packages (from -r requirements.txt (line 117)) (1.1.2)\n",
      "Requirement already satisfied: python-dotenv==1.0.1 in /Users/hs/.pyenv/versions/inflearn-llm-application/lib/python3.11/site-packages (from -r requirements.txt (line 118)) (1.0.1)\n",
      "Requirement already satisfied: PyYAML==6.0.2 in /Users/hs/.pyenv/versions/inflearn-llm-application/lib/python3.11/site-packages (from -r requirements.txt (line 119)) (6.0.2)\n",
      "Requirement already satisfied: pyzmq==26.2.0 in /Users/hs/.pyenv/versions/inflearn-llm-application/lib/python3.11/site-packages (from -r requirements.txt (line 120)) (26.2.0)\n",
      "Requirement already satisfied: regex==2024.9.11 in /Users/hs/.pyenv/versions/inflearn-llm-application/lib/python3.11/site-packages (from -r requirements.txt (line 121)) (2024.9.11)\n",
      "Requirement already satisfied: requests==2.32.3 in /Users/hs/.pyenv/versions/inflearn-llm-application/lib/python3.11/site-packages (from -r requirements.txt (line 122)) (2.32.3)\n",
      "Requirement already satisfied: requests-oauthlib==2.0.0 in /Users/hs/.pyenv/versions/inflearn-llm-application/lib/python3.11/site-packages (from -r requirements.txt (line 123)) (2.0.0)\n",
      "Requirement already satisfied: requests-toolbelt==1.0.0 in /Users/hs/.pyenv/versions/inflearn-llm-application/lib/python3.11/site-packages (from -r requirements.txt (line 124)) (1.0.0)\n",
      "Requirement already satisfied: rich==13.9.2 in /Users/hs/.pyenv/versions/inflearn-llm-application/lib/python3.11/site-packages (from -r requirements.txt (line 125)) (13.9.2)\n",
      "Requirement already satisfied: rsa==4.9 in /Users/hs/.pyenv/versions/inflearn-llm-application/lib/python3.11/site-packages (from -r requirements.txt (line 126)) (4.9)\n",
      "Requirement already satisfied: shellingham==1.5.4 in /Users/hs/.pyenv/versions/inflearn-llm-application/lib/python3.11/site-packages (from -r requirements.txt (line 127)) (1.5.4)\n",
      "Requirement already satisfied: six==1.16.0 in /Users/hs/.pyenv/versions/inflearn-llm-application/lib/python3.11/site-packages (from -r requirements.txt (line 128)) (1.16.0)\n",
      "Requirement already satisfied: sniffio==1.3.1 in /Users/hs/.pyenv/versions/inflearn-llm-application/lib/python3.11/site-packages (from -r requirements.txt (line 129)) (1.3.1)\n",
      "Requirement already satisfied: SQLAlchemy==2.0.35 in /Users/hs/.pyenv/versions/inflearn-llm-application/lib/python3.11/site-packages (from -r requirements.txt (line 130)) (2.0.35)\n",
      "Requirement already satisfied: stack-data==0.6.3 in /Users/hs/.pyenv/versions/inflearn-llm-application/lib/python3.11/site-packages (from -r requirements.txt (line 131)) (0.6.3)\n",
      "Requirement already satisfied: starlette==0.40.0 in /Users/hs/.pyenv/versions/inflearn-llm-application/lib/python3.11/site-packages (from -r requirements.txt (line 132)) (0.40.0)\n",
      "Requirement already satisfied: sympy==1.13.3 in /Users/hs/.pyenv/versions/inflearn-llm-application/lib/python3.11/site-packages (from -r requirements.txt (line 133)) (1.13.3)\n",
      "Requirement already satisfied: tenacity==8.5.0 in /Users/hs/.pyenv/versions/inflearn-llm-application/lib/python3.11/site-packages (from -r requirements.txt (line 134)) (8.5.0)\n",
      "Requirement already satisfied: tiktoken==0.8.0 in /Users/hs/.pyenv/versions/inflearn-llm-application/lib/python3.11/site-packages (from -r requirements.txt (line 135)) (0.8.0)\n",
      "Requirement already satisfied: tokenizers==0.19.1 in /Users/hs/.pyenv/versions/inflearn-llm-application/lib/python3.11/site-packages (from -r requirements.txt (line 136)) (0.19.1)\n",
      "Requirement already satisfied: tomli==2.0.2 in /Users/hs/.pyenv/versions/inflearn-llm-application/lib/python3.11/site-packages (from -r requirements.txt (line 137)) (2.0.2)\n",
      "Requirement already satisfied: tornado==6.4.1 in /Users/hs/.pyenv/versions/inflearn-llm-application/lib/python3.11/site-packages (from -r requirements.txt (line 138)) (6.4.1)\n",
      "Requirement already satisfied: tqdm==4.66.5 in /Users/hs/.pyenv/versions/inflearn-llm-application/lib/python3.11/site-packages (from -r requirements.txt (line 139)) (4.66.5)\n",
      "Requirement already satisfied: traitlets==5.14.3 in /Users/hs/.pyenv/versions/inflearn-llm-application/lib/python3.11/site-packages (from -r requirements.txt (line 140)) (5.14.3)\n",
      "Requirement already satisfied: typer==0.12.5 in /Users/hs/.pyenv/versions/inflearn-llm-application/lib/python3.11/site-packages (from -r requirements.txt (line 141)) (0.12.5)\n",
      "Requirement already satisfied: typing-inspect==0.9.0 in /Users/hs/.pyenv/versions/inflearn-llm-application/lib/python3.11/site-packages (from -r requirements.txt (line 142)) (0.9.0)\n",
      "Requirement already satisfied: typing_extensions==4.12.2 in /Users/hs/.pyenv/versions/inflearn-llm-application/lib/python3.11/site-packages (from -r requirements.txt (line 143)) (4.12.2)\n",
      "Requirement already satisfied: urllib3==2.2.3 in /Users/hs/.pyenv/versions/inflearn-llm-application/lib/python3.11/site-packages (from -r requirements.txt (line 144)) (2.2.3)\n",
      "Requirement already satisfied: uvicorn==0.31.1 in /Users/hs/.pyenv/versions/inflearn-llm-application/lib/python3.11/site-packages (from -r requirements.txt (line 145)) (0.31.1)\n",
      "Requirement already satisfied: uvloop==0.21.0 in /Users/hs/.pyenv/versions/inflearn-llm-application/lib/python3.11/site-packages (from -r requirements.txt (line 146)) (0.21.0)\n",
      "Requirement already satisfied: watchfiles==0.24.0 in /Users/hs/.pyenv/versions/inflearn-llm-application/lib/python3.11/site-packages (from -r requirements.txt (line 147)) (0.24.0)\n",
      "Requirement already satisfied: wcwidth==0.2.13 in /Users/hs/.pyenv/versions/inflearn-llm-application/lib/python3.11/site-packages (from -r requirements.txt (line 148)) (0.2.13)\n",
      "Requirement already satisfied: websocket-client==1.8.0 in /Users/hs/.pyenv/versions/inflearn-llm-application/lib/python3.11/site-packages (from -r requirements.txt (line 149)) (1.8.0)\n",
      "Requirement already satisfied: websockets==13.1 in /Users/hs/.pyenv/versions/inflearn-llm-application/lib/python3.11/site-packages (from -r requirements.txt (line 150)) (13.1)\n",
      "Requirement already satisfied: wrapt==1.16.0 in /Users/hs/.pyenv/versions/inflearn-llm-application/lib/python3.11/site-packages (from -r requirements.txt (line 151)) (1.16.0)\n",
      "Requirement already satisfied: yarl==1.15.2 in /Users/hs/.pyenv/versions/inflearn-llm-application/lib/python3.11/site-packages (from -r requirements.txt (line 152)) (1.15.2)\n",
      "Requirement already satisfied: zipp==3.20.2 in /Users/hs/.pyenv/versions/inflearn-llm-application/lib/python3.11/site-packages (from -r requirements.txt (line 153)) (3.20.2)\n",
      "Requirement already satisfied: setuptools>=16.0 in /Users/hs/.pyenv/versions/inflearn-llm-application/lib/python3.11/site-packages (from opentelemetry-instrumentation==0.48b0->-r requirements.txt (line 84)) (65.5.0)\n",
      "\n",
      "\u001b[1m[\u001b[0m\u001b[34;49mnotice\u001b[0m\u001b[1;39;49m]\u001b[0m\u001b[39;49m A new release of pip is available: \u001b[0m\u001b[31;49m24.0\u001b[0m\u001b[39;49m -> \u001b[0m\u001b[32;49m25.2\u001b[0m\n",
      "\u001b[1m[\u001b[0m\u001b[34;49mnotice\u001b[0m\u001b[1;39;49m]\u001b[0m\u001b[39;49m To update, run: \u001b[0m\u001b[32;49mpip install --upgrade pip\u001b[0m\n",
      "Note: you may need to restart the kernel to use updated packages.\n"
     ]
    }
   ],
   "source": [
    "%pip install -r requirements.txt --upgrade"
   ]
  },
  {
   "cell_type": "code",
   "execution_count": 2,
   "id": "8c5ddbd3",
   "metadata": {},
   "outputs": [],
   "source": [
    "from langchain_community.document_loaders import Docx2txtLoader\n",
    "from langchain_text_splitters import RecursiveCharacterTextSplitter\n",
    "\n",
    "text_splitter = RecursiveCharacterTextSplitter(\n",
    "    chunk_size=1500,\n",
    "    chunk_overlap=200,\n",
    ")\n",
    "\n",
    "loader = Docx2txtLoader('./tax_with_markdown.docx')\n",
    "document_list = loader.load_and_split(text_splitter=text_splitter)"
   ]
  },
  {
   "cell_type": "code",
   "execution_count": 3,
   "id": "6aa05039",
   "metadata": {},
   "outputs": [
    {
     "data": {
      "text/plain": [
       "Document(metadata={'source': './tax_with_markdown.docx'}, page_content='제55조(세율) ①거주자의 종합소득에 대한 소득세는 해당 연도의 종합소득과세표준에 다음의 세율을 적용하여 계산한 금액(이하 “종합소득산출세액”이라 한다)을 그 세액으로 한다. <개정 2014. 1. 1., 2016. 12. 20., 2017. 12. 19., 2020. 12. 29., 2022. 12. 31.>\\n\\n| 종합소득 과세표준          | 세율                                         |\\n\\n|-------------------|--------------------------------------------|\\n\\n| 1,400만원 이하     | 과세표준의 6퍼센트                             |\\n\\n| 1,400만원 초과     5,000만원 이하     | 84만원 + (1,400만원을 초과하는 금액의 15퍼센트)  |\\n\\n| 5,000만원 초과   8,800만원 이하     | 624만원 + (5,000만원을 초과하는 금액의 24퍼센트) |\\n\\n| 8,800만원 초과 1억5천만원 이하    | 3,706만원 + (8,800만원을 초과하는 금액의 35퍼센트)|\\n\\n| 1억5천만원 초과 3억원 이하         | 3,706만원 + (1억5천만원을 초과하는 금액의 38퍼센트)|\\n\\n| 3억원 초과    5억원 이하         | 9,406만원 + (3억원을 초과하는 금액의 38퍼센트)   |\\n\\n| 5억원 초과      10억원 이하        | 1억 7,406만원 + (5억원을 초과하는 금액의 42퍼센트)|\\n\\n| 10억원 초과        | 3억 8,406만원 + (10억원을 초과하는 금액의 45퍼센트)|\\n\\n\\n\\n\\n\\n② 거주자의 퇴직소득에 대한 소득세는 다음 각 호의 순서에 따라 계산한 금액(이하 “퇴직소득 산출세액”이라 한다)으로 한다.<개정 2013. 1. 1., 2014. 12. 23.>\\n\\n1. 해당 과세기간의 퇴직소득과세표준에 제1항의 세율을 적용하여 계산한 금액\\n\\n2. 제1호의 금액을 12로 나눈 금액에 근속연수를 곱한 금액\\n\\n3. 삭제<2014. 12. 23.>\\n\\n[전문개정 2009. 12. 31.]\\n\\n\\n\\n제2관 세액공제 <개정 2009. 12. 31.>\\n\\n\\n\\n제56조(배당세액공제) ① 거주자의 종합소득금액에 제17조제3항 각 호 외의 부분 단서가 적용되는 배당소득금액이 합산되어 있는 경우에는 같은 항 각 호 외의 부분 단서에 따라 해당 과세기간의 총수입금액에 더한 금액에 해당하는 금액을 종합소득 산출세액에서 공제한다. <개정 2009. 12. 31.>\\n\\n② 제1항에 따른 공제를 “배당세액공제”라 한다.<개정 2009. 12. 31.>\\n\\n③ 삭제<2003. 12. 30.>\\n\\n④ 제1항을 적용할 때 배당세액공제의 대상이 되는 배당소득금액은 제14조제2항의 종합소득과세표준에 포함된 배당소득금액으로서 이자소득등의 종합과세기준금액을 초과하는 것으로 한다.<개정 2009. 12. 31.>\\n\\n⑤ 삭제<2006. 12. 30.>')"
      ]
     },
     "execution_count": 3,
     "metadata": {},
     "output_type": "execute_result"
    }
   ],
   "source": [
    "\n",
    "document_list[52]"
   ]
  },
  {
   "cell_type": "code",
   "execution_count": 8,
   "id": "b0bc8926",
   "metadata": {},
   "outputs": [],
   "source": [
    "from dotenv import load_dotenv\n",
    "from langchain_upstage import UpstageEmbeddings\n",
    "\n",
    "load_dotenv()\n",
    "\n",
    "embedding = UpstageEmbeddings(model=\"solar-embedding-1-large\")"
   ]
  },
  {
   "cell_type": "code",
   "execution_count": 9,
   "id": "b39b89e4",
   "metadata": {},
   "outputs": [],
   "source": [
    "from langchain_pinecone import PineconeVectorStore\n",
    "\n",
    "# 데이터를 처음 저장할 때 \n",
    "index_name = 'tax-upstage-index'\n",
    "database = PineconeVectorStore.from_documents(document_list, embedding, index_name=index_name)"
   ]
  },
  {
   "cell_type": "code",
   "execution_count": 20,
   "id": "73c0b851",
   "metadata": {},
   "outputs": [],
   "source": [
    "query = '연봉 5천만원인 직장인의 소득세는 얼마인가요?'\n",
    "\n",
    "# `k` 값을 조절해서 얼마나 많은 데이터를 불러올지 결정\n",
    "retrieved_docs = database.similarity_search(query, k=3)"
   ]
  },
  {
   "cell_type": "code",
   "execution_count": 21,
   "id": "8c93e84b",
   "metadata": {},
   "outputs": [],
   "source": [
    "from langchain_upstage import ChatUpstage\n",
    "\n",
    "llm = ChatUpstage()"
   ]
  },
  {
   "cell_type": "code",
   "execution_count": 22,
   "id": "fa7a9b82",
   "metadata": {},
   "outputs": [
    {
     "name": "stderr",
     "output_type": "stream",
     "text": [
      "/Users/hs/.pyenv/versions/inflearn-llm-application/lib/python3.11/site-packages/langsmith/client.py:354: LangSmithMissingAPIKeyWarning: API key must be provided when using hosted LangSmith API\n",
      "  warnings.warn(\n"
     ]
    }
   ],
   "source": [
    "from langchain import hub\n",
    "\n",
    "prompt = hub.pull(\"rlm/rag-prompt\")"
   ]
  },
  {
   "cell_type": "code",
   "execution_count": 24,
   "id": "cee21fae",
   "metadata": {},
   "outputs": [],
   "source": [
    "from langchain.chains import RetrievalQA\n",
    "\n",
    "qa_chain = RetrievalQA.from_chain_type(\n",
    "    llm, \n",
    "    retriever=database.as_retriever(),\n",
    "    chain_type_kwargs={\"prompt\": prompt}\n",
    ")"
   ]
  },
  {
   "cell_type": "code",
   "execution_count": 25,
   "id": "94ba43af",
   "metadata": {},
   "outputs": [
    {
     "data": {
      "text/plain": [
       "{'query': '연봉 5천만원인 직장인의 소득세는 얼마인가요?',\n",
       " 'result': '연봉 5천만원인 직장인의 소득세는 3,272,000원입니다. 이는 5천만원 이하의 종합소득 과세표준에 해당하는 세율 15%를 적용하고, 그 결과에서 84만원을 공제한 금액입니다.'}"
      ]
     },
     "execution_count": 25,
     "metadata": {},
     "output_type": "execute_result"
    }
   ],
   "source": [
    "ai_message = qa_chain.invoke({\"query\": query})\n",
    "\n",
    "ai_message"
   ]
  }
 ],
 "metadata": {
  "kernelspec": {
   "display_name": "inflearn-llm-application",
   "language": "python",
   "name": "python3"
  },
  "language_info": {
   "codemirror_mode": {
    "name": "ipython",
    "version": 3
   },
   "file_extension": ".py",
   "mimetype": "text/x-python",
   "name": "python",
   "nbconvert_exporter": "python",
   "pygments_lexer": "ipython3",
   "version": "3.11.13"
  }
 },
 "nbformat": 4,
 "nbformat_minor": 5
}
