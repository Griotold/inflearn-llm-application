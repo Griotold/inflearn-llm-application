{
 "cells": [
  {
   "cell_type": "code",
   "execution_count": 1,
   "id": "54fd9540",
   "metadata": {},
   "outputs": [
    {
     "name": "stdout",
     "output_type": "stream",
     "text": [
      "Requirement already satisfied: python-dotenv in /Users/hs/.pyenv/versions/inflearn-llm-application/lib/python3.11/site-packages (1.1.1)\n",
      "Collecting langchain-upstage==0.5.0\n",
      "  Downloading langchain_upstage-0.5.0-py3-none-any.whl.metadata (3.3 kB)\n",
      "Requirement already satisfied: langchain-core<0.4,>=0.3.0 in /Users/hs/.pyenv/versions/inflearn-llm-application/lib/python3.11/site-packages (from langchain-upstage==0.5.0) (0.3.79)\n",
      "Collecting langchain-openai<0.3,>=0.2 (from langchain-upstage==0.5.0)\n",
      "  Downloading langchain_openai-0.2.14-py3-none-any.whl.metadata (2.7 kB)\n",
      "Collecting pypdf<5.0.0,>=4.2.0 (from langchain-upstage==0.5.0)\n",
      "  Downloading pypdf-4.3.1-py3-none-any.whl.metadata (7.4 kB)\n",
      "Requirement already satisfied: requests<3.0.0,>=2.31.0 in /Users/hs/.pyenv/versions/inflearn-llm-application/lib/python3.11/site-packages (from langchain-upstage==0.5.0) (2.32.5)\n",
      "Collecting tokenizers<0.20.0,>=0.19.1 (from langchain-upstage==0.5.0)\n",
      "  Downloading tokenizers-0.19.1-cp311-cp311-macosx_11_0_arm64.whl.metadata (6.7 kB)\n",
      "Requirement already satisfied: langsmith<1.0.0,>=0.3.45 in /Users/hs/.pyenv/versions/inflearn-llm-application/lib/python3.11/site-packages (from langchain-core<0.4,>=0.3.0->langchain-upstage==0.5.0) (0.4.37)\n",
      "Requirement already satisfied: tenacity!=8.4.0,<10.0.0,>=8.1.0 in /Users/hs/.pyenv/versions/inflearn-llm-application/lib/python3.11/site-packages (from langchain-core<0.4,>=0.3.0->langchain-upstage==0.5.0) (9.1.2)\n",
      "Requirement already satisfied: jsonpatch<2.0.0,>=1.33.0 in /Users/hs/.pyenv/versions/inflearn-llm-application/lib/python3.11/site-packages (from langchain-core<0.4,>=0.3.0->langchain-upstage==0.5.0) (1.33)\n",
      "Requirement already satisfied: PyYAML<7.0.0,>=5.3.0 in /Users/hs/.pyenv/versions/inflearn-llm-application/lib/python3.11/site-packages (from langchain-core<0.4,>=0.3.0->langchain-upstage==0.5.0) (6.0.3)\n",
      "Requirement already satisfied: typing-extensions<5.0.0,>=4.7.0 in /Users/hs/.pyenv/versions/inflearn-llm-application/lib/python3.11/site-packages (from langchain-core<0.4,>=0.3.0->langchain-upstage==0.5.0) (4.15.0)\n",
      "Requirement already satisfied: packaging<26.0.0,>=23.2.0 in /Users/hs/.pyenv/versions/inflearn-llm-application/lib/python3.11/site-packages (from langchain-core<0.4,>=0.3.0->langchain-upstage==0.5.0) (25.0)\n",
      "Requirement already satisfied: pydantic<3.0.0,>=2.7.4 in /Users/hs/.pyenv/versions/inflearn-llm-application/lib/python3.11/site-packages (from langchain-core<0.4,>=0.3.0->langchain-upstage==0.5.0) (2.12.2)\n",
      "Collecting openai<2.0.0,>=1.58.1 (from langchain-openai<0.3,>=0.2->langchain-upstage==0.5.0)\n",
      "  Using cached openai-1.109.1-py3-none-any.whl.metadata (29 kB)\n",
      "Requirement already satisfied: tiktoken<1,>=0.7 in /Users/hs/.pyenv/versions/inflearn-llm-application/lib/python3.11/site-packages (from langchain-openai<0.3,>=0.2->langchain-upstage==0.5.0) (0.12.0)\n",
      "Requirement already satisfied: charset_normalizer<4,>=2 in /Users/hs/.pyenv/versions/inflearn-llm-application/lib/python3.11/site-packages (from requests<3.0.0,>=2.31.0->langchain-upstage==0.5.0) (3.4.4)\n",
      "Requirement already satisfied: idna<4,>=2.5 in /Users/hs/.pyenv/versions/inflearn-llm-application/lib/python3.11/site-packages (from requests<3.0.0,>=2.31.0->langchain-upstage==0.5.0) (3.11)\n",
      "Requirement already satisfied: urllib3<3,>=1.21.1 in /Users/hs/.pyenv/versions/inflearn-llm-application/lib/python3.11/site-packages (from requests<3.0.0,>=2.31.0->langchain-upstage==0.5.0) (2.5.0)\n",
      "Requirement already satisfied: certifi>=2017.4.17 in /Users/hs/.pyenv/versions/inflearn-llm-application/lib/python3.11/site-packages (from requests<3.0.0,>=2.31.0->langchain-upstage==0.5.0) (2025.10.5)\n",
      "Collecting huggingface-hub<1.0,>=0.16.4 (from tokenizers<0.20.0,>=0.19.1->langchain-upstage==0.5.0)\n",
      "  Using cached huggingface_hub-0.35.3-py3-none-any.whl.metadata (14 kB)\n",
      "Collecting filelock (from huggingface-hub<1.0,>=0.16.4->tokenizers<0.20.0,>=0.19.1->langchain-upstage==0.5.0)\n",
      "  Using cached filelock-3.20.0-py3-none-any.whl.metadata (2.1 kB)\n",
      "Collecting fsspec>=2023.5.0 (from huggingface-hub<1.0,>=0.16.4->tokenizers<0.20.0,>=0.19.1->langchain-upstage==0.5.0)\n",
      "  Using cached fsspec-2025.9.0-py3-none-any.whl.metadata (10 kB)\n",
      "Requirement already satisfied: tqdm>=4.42.1 in /Users/hs/.pyenv/versions/inflearn-llm-application/lib/python3.11/site-packages (from huggingface-hub<1.0,>=0.16.4->tokenizers<0.20.0,>=0.19.1->langchain-upstage==0.5.0) (4.67.1)\n",
      "Collecting hf-xet<2.0.0,>=1.1.3 (from huggingface-hub<1.0,>=0.16.4->tokenizers<0.20.0,>=0.19.1->langchain-upstage==0.5.0)\n",
      "  Using cached hf_xet-1.1.10-cp37-abi3-macosx_11_0_arm64.whl.metadata (4.7 kB)\n",
      "Requirement already satisfied: jsonpointer>=1.9 in /Users/hs/.pyenv/versions/inflearn-llm-application/lib/python3.11/site-packages (from jsonpatch<2.0.0,>=1.33.0->langchain-core<0.4,>=0.3.0->langchain-upstage==0.5.0) (3.0.0)\n",
      "Requirement already satisfied: httpx<1,>=0.23.0 in /Users/hs/.pyenv/versions/inflearn-llm-application/lib/python3.11/site-packages (from langsmith<1.0.0,>=0.3.45->langchain-core<0.4,>=0.3.0->langchain-upstage==0.5.0) (0.28.1)\n",
      "Requirement already satisfied: orjson>=3.9.14 in /Users/hs/.pyenv/versions/inflearn-llm-application/lib/python3.11/site-packages (from langsmith<1.0.0,>=0.3.45->langchain-core<0.4,>=0.3.0->langchain-upstage==0.5.0) (3.11.3)\n",
      "Requirement already satisfied: requests-toolbelt>=1.0.0 in /Users/hs/.pyenv/versions/inflearn-llm-application/lib/python3.11/site-packages (from langsmith<1.0.0,>=0.3.45->langchain-core<0.4,>=0.3.0->langchain-upstage==0.5.0) (1.0.0)\n",
      "Requirement already satisfied: zstandard>=0.23.0 in /Users/hs/.pyenv/versions/inflearn-llm-application/lib/python3.11/site-packages (from langsmith<1.0.0,>=0.3.45->langchain-core<0.4,>=0.3.0->langchain-upstage==0.5.0) (0.25.0)\n",
      "Requirement already satisfied: anyio<5,>=3.5.0 in /Users/hs/.pyenv/versions/inflearn-llm-application/lib/python3.11/site-packages (from openai<2.0.0,>=1.58.1->langchain-openai<0.3,>=0.2->langchain-upstage==0.5.0) (4.11.0)\n",
      "Requirement already satisfied: distro<2,>=1.7.0 in /Users/hs/.pyenv/versions/inflearn-llm-application/lib/python3.11/site-packages (from openai<2.0.0,>=1.58.1->langchain-openai<0.3,>=0.2->langchain-upstage==0.5.0) (1.9.0)\n",
      "Requirement already satisfied: jiter<1,>=0.4.0 in /Users/hs/.pyenv/versions/inflearn-llm-application/lib/python3.11/site-packages (from openai<2.0.0,>=1.58.1->langchain-openai<0.3,>=0.2->langchain-upstage==0.5.0) (0.11.0)\n",
      "Requirement already satisfied: sniffio in /Users/hs/.pyenv/versions/inflearn-llm-application/lib/python3.11/site-packages (from openai<2.0.0,>=1.58.1->langchain-openai<0.3,>=0.2->langchain-upstage==0.5.0) (1.3.1)\n",
      "Requirement already satisfied: annotated-types>=0.6.0 in /Users/hs/.pyenv/versions/inflearn-llm-application/lib/python3.11/site-packages (from pydantic<3.0.0,>=2.7.4->langchain-core<0.4,>=0.3.0->langchain-upstage==0.5.0) (0.7.0)\n",
      "Requirement already satisfied: pydantic-core==2.41.4 in /Users/hs/.pyenv/versions/inflearn-llm-application/lib/python3.11/site-packages (from pydantic<3.0.0,>=2.7.4->langchain-core<0.4,>=0.3.0->langchain-upstage==0.5.0) (2.41.4)\n",
      "Requirement already satisfied: typing-inspection>=0.4.2 in /Users/hs/.pyenv/versions/inflearn-llm-application/lib/python3.11/site-packages (from pydantic<3.0.0,>=2.7.4->langchain-core<0.4,>=0.3.0->langchain-upstage==0.5.0) (0.4.2)\n",
      "Requirement already satisfied: regex>=2022.1.18 in /Users/hs/.pyenv/versions/inflearn-llm-application/lib/python3.11/site-packages (from tiktoken<1,>=0.7->langchain-openai<0.3,>=0.2->langchain-upstage==0.5.0) (2025.9.18)\n",
      "Requirement already satisfied: httpcore==1.* in /Users/hs/.pyenv/versions/inflearn-llm-application/lib/python3.11/site-packages (from httpx<1,>=0.23.0->langsmith<1.0.0,>=0.3.45->langchain-core<0.4,>=0.3.0->langchain-upstage==0.5.0) (1.0.9)\n",
      "Requirement already satisfied: h11>=0.16 in /Users/hs/.pyenv/versions/inflearn-llm-application/lib/python3.11/site-packages (from httpcore==1.*->httpx<1,>=0.23.0->langsmith<1.0.0,>=0.3.45->langchain-core<0.4,>=0.3.0->langchain-upstage==0.5.0) (0.16.0)\n",
      "Downloading langchain_upstage-0.5.0-py3-none-any.whl (20 kB)\n",
      "Downloading langchain_openai-0.2.14-py3-none-any.whl (50 kB)\n",
      "\u001b[2K   \u001b[90m━━━━━━━━━━━━━━━━━━━━━━━━━━━━━━━━━━━━━━━━\u001b[0m \u001b[32m50.9/50.9 kB\u001b[0m \u001b[31m2.7 MB/s\u001b[0m eta \u001b[36m0:00:00\u001b[0m\n",
      "\u001b[?25hDownloading pypdf-4.3.1-py3-none-any.whl (295 kB)\n",
      "\u001b[2K   \u001b[90m━━━━━━━━━━━━━━━━━━━━━━━━━━━━━━━━━━━━━━━━\u001b[0m \u001b[32m295.8/295.8 kB\u001b[0m \u001b[31m12.8 MB/s\u001b[0m eta \u001b[36m0:00:00\u001b[0m\n",
      "\u001b[?25hDownloading tokenizers-0.19.1-cp311-cp311-macosx_11_0_arm64.whl (2.4 MB)\n",
      "\u001b[2K   \u001b[90m━━━━━━━━━━━━━━━━━━━━━━━━━━━━━━━━━━━━━━━━\u001b[0m \u001b[32m2.4/2.4 MB\u001b[0m \u001b[31m13.5 MB/s\u001b[0m eta \u001b[36m0:00:00\u001b[0ma \u001b[36m0:00:01\u001b[0m\n",
      "\u001b[?25hUsing cached huggingface_hub-0.35.3-py3-none-any.whl (564 kB)\n",
      "Using cached openai-1.109.1-py3-none-any.whl (948 kB)\n",
      "Using cached fsspec-2025.9.0-py3-none-any.whl (199 kB)\n",
      "Using cached hf_xet-1.1.10-cp37-abi3-macosx_11_0_arm64.whl (2.6 MB)\n",
      "Using cached filelock-3.20.0-py3-none-any.whl (16 kB)\n",
      "Installing collected packages: pypdf, hf-xet, fsspec, filelock, huggingface-hub, tokenizers, openai, langchain-openai, langchain-upstage\n",
      "  Attempting uninstall: openai\n",
      "    Found existing installation: openai 2.4.0\n",
      "    Uninstalling openai-2.4.0:\n",
      "      Successfully uninstalled openai-2.4.0\n",
      "  Attempting uninstall: langchain-openai\n",
      "    Found existing installation: langchain-openai 0.3.35\n",
      "    Uninstalling langchain-openai-0.3.35:\n",
      "      Successfully uninstalled langchain-openai-0.3.35\n",
      "Successfully installed filelock-3.20.0 fsspec-2025.9.0 hf-xet-1.1.10 huggingface-hub-0.35.3 langchain-openai-0.2.14 langchain-upstage-0.5.0 openai-1.109.1 pypdf-4.3.1 tokenizers-0.19.1\n",
      "\n",
      "\u001b[1m[\u001b[0m\u001b[34;49mnotice\u001b[0m\u001b[1;39;49m]\u001b[0m\u001b[39;49m A new release of pip is available: \u001b[0m\u001b[31;49m24.0\u001b[0m\u001b[39;49m -> \u001b[0m\u001b[32;49m25.2\u001b[0m\n",
      "\u001b[1m[\u001b[0m\u001b[34;49mnotice\u001b[0m\u001b[1;39;49m]\u001b[0m\u001b[39;49m To update, run: \u001b[0m\u001b[32;49mpip install --upgrade pip\u001b[0m\n",
      "Note: you may need to restart the kernel to use updated packages.\n"
     ]
    }
   ],
   "source": [
    "%pip install python-dotenv langchain-upstage==0.5.0"
   ]
  },
  {
   "cell_type": "code",
   "execution_count": 2,
   "id": "50dc6420",
   "metadata": {},
   "outputs": [
    {
     "data": {
      "text/plain": [
       "True"
      ]
     },
     "execution_count": 2,
     "metadata": {},
     "output_type": "execute_result"
    }
   ],
   "source": [
    "from dotenv import load_dotenv\n",
    "\n",
    "load_dotenv()"
   ]
  },
  {
   "cell_type": "code",
   "execution_count": 3,
   "id": "356832d4",
   "metadata": {},
   "outputs": [
    {
     "data": {
      "text/plain": [
       "'인프런은 다양한 분야의 온라인 강의를 제공하는 플랫폼입니다. 대표적인 강의 카테고리는 다음과 같습니다:\\n\\n1. **프로그래밍**: \\n   - 웹 개발: HTML, CSS, JavaScript, React, Vue.js, Node.js 등\\n   - 모바일 개발: Android, iOS, Flutter 등\\n   - 데이터베이스: SQL, NoSQL, 데이터베이스 설계 등\\n   - 서버: AWS, Linux, Docker 등\\n   - 인공지능: Python, TensorFlow, PyTorch 등\\n\\n2. **디자인**:\\n   - 그래픽 디자인: Adobe Photoshop, Illustrator, Canva 등\\n   - UI/UX 디자인: Sketch, Figma, 디자인 원칙 등\\n\\n3. **데이터 분석**:\\n   - 통계: R, Python, Excel 등\\n   - 데이터 시각화: Tableau, Power BI 등\\n\\n4. **비즈니스**:\\n   - 마케팅: 디지털 마케팅, SEO, 소셜 미디어 마케팅 등\\n   - 프로젝트 관리: Agile, Scrum, PMP 등\\n\\n5. **기타**:\\n   - 영어: 프로그래밍을 위한 영어, 기술 문서 작성 등\\n   - 창업: 스타트업, 비즈니스 모델, 투자 유치 등\\n\\n이 외에도 많은 분야의 강의가 있으며, 강의는 지속적으로 업데이트됩니다. 인프런 웹사이트를 방문하거나 앱을 다운로드하여 최신 강의 목록을 확인할 수 있습니다.'"
      ]
     },
     "execution_count": 3,
     "metadata": {},
     "output_type": "execute_result"
    }
   ],
   "source": [
    "from langchain_upstage import ChatUpstage\n",
    "\n",
    "llm = ChatUpstage()\n",
    "ai_message = llm.invoke(\"인프런에 어떤 강의가 있나요?\")\n",
    "ai_message.content"
   ]
  }
 ],
 "metadata": {
  "kernelspec": {
   "display_name": "inflearn-llm-application",
   "language": "python",
   "name": "python3"
  },
  "language_info": {
   "codemirror_mode": {
    "name": "ipython",
    "version": 3
   },
   "file_extension": ".py",
   "mimetype": "text/x-python",
   "name": "python",
   "nbconvert_exporter": "python",
   "pygments_lexer": "ipython3",
   "version": "3.11.13"
  }
 },
 "nbformat": 4,
 "nbformat_minor": 5
}
